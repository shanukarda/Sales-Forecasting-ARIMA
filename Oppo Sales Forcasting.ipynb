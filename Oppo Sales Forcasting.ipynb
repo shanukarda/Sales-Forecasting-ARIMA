{
 "cells": [
  {
   "cell_type": "markdown",
   "metadata": {},
   "source": [
    "## Oppo Sales Forcasting for Jan 2019"
   ]
  },
  {
   "cell_type": "code",
   "execution_count": 1,
   "metadata": {},
   "outputs": [
    {
     "data": {
      "text/html": [
       "<div>\n",
       "<style scoped>\n",
       "    .dataframe tbody tr th:only-of-type {\n",
       "        vertical-align: middle;\n",
       "    }\n",
       "\n",
       "    .dataframe tbody tr th {\n",
       "        vertical-align: top;\n",
       "    }\n",
       "\n",
       "    .dataframe thead th {\n",
       "        text-align: right;\n",
       "    }\n",
       "</style>\n",
       "<table border=\"1\" class=\"dataframe\">\n",
       "  <thead>\n",
       "    <tr style=\"text-align: right;\">\n",
       "      <th></th>\n",
       "      <th>Agent</th>\n",
       "      <th>Bill Name</th>\n",
       "      <th>Dealer</th>\n",
       "      <th>District</th>\n",
       "      <th>Brand</th>\n",
       "      <th>Model</th>\n",
       "      <th>Color</th>\n",
       "      <th>Model Price</th>\n",
       "      <th>IMEI</th>\n",
       "      <th>Reporter</th>\n",
       "      <th>State</th>\n",
       "      <th>Date Time</th>\n",
       "    </tr>\n",
       "  </thead>\n",
       "  <tbody>\n",
       "    <tr>\n",
       "      <th>0</th>\n",
       "      <td>19-LDH(A)-ALLIED MARKETING-LUDHIANA</td>\n",
       "      <td>NaN</td>\n",
       "      <td>Trendz Digi World-LDH</td>\n",
       "      <td>LUDHIANA</td>\n",
       "      <td>OPPO</td>\n",
       "      <td>1201 16G</td>\n",
       "      <td>BLACK</td>\n",
       "      <td>7990</td>\n",
       "      <td>1.050000e+14</td>\n",
       "      <td>SO KHANNA GURPREET</td>\n",
       "      <td>Sold out</td>\n",
       "      <td>1/30/2018 12:26</td>\n",
       "    </tr>\n",
       "    <tr>\n",
       "      <th>1</th>\n",
       "      <td>07(A)-BTI-GOPAL AGENCIES</td>\n",
       "      <td>NaN</td>\n",
       "      <td>AD enterprises</td>\n",
       "      <td>BHATINDA</td>\n",
       "      <td>OPPO</td>\n",
       "      <td>A37</td>\n",
       "      <td>GOLDEN</td>\n",
       "      <td>8990</td>\n",
       "      <td>8.600000e+14</td>\n",
       "      <td>GURMINDER SINGH-5106(BTA)</td>\n",
       "      <td>Sold out</td>\n",
       "      <td>1/3/2018 19:11</td>\n",
       "    </tr>\n",
       "    <tr>\n",
       "      <th>2</th>\n",
       "      <td>09-PTL(B)-NAINA SALES PVT. LTD-PATRAN</td>\n",
       "      <td>NaN</td>\n",
       "      <td>NAV TELECOM-Nabha</td>\n",
       "      <td>PATIALA</td>\n",
       "      <td>OPPO</td>\n",
       "      <td>A37</td>\n",
       "      <td>GOLDEN</td>\n",
       "      <td>8990</td>\n",
       "      <td>8.600000e+14</td>\n",
       "      <td>VARUN KUMAR-4587(PTL)</td>\n",
       "      <td>Sold out</td>\n",
       "      <td>1/24/2018 22:56</td>\n",
       "    </tr>\n",
       "    <tr>\n",
       "      <th>3</th>\n",
       "      <td>19-LDH(A)-ALLIED MARKETING-LUDHIANA</td>\n",
       "      <td>NaN</td>\n",
       "      <td>SRP Electronics</td>\n",
       "      <td>LUDHIANA</td>\n",
       "      <td>OPPO</td>\n",
       "      <td>A37</td>\n",
       "      <td>GOLDEN</td>\n",
       "      <td>8990</td>\n",
       "      <td>8.600000e+14</td>\n",
       "      <td>SO KHANNA GURPREET</td>\n",
       "      <td>Sold out</td>\n",
       "      <td>1/8/2018 14:20</td>\n",
       "    </tr>\n",
       "    <tr>\n",
       "      <th>4</th>\n",
       "      <td>22-MHL(A)-SANGAM SALES PVT. LTD.</td>\n",
       "      <td>NaN</td>\n",
       "      <td>Classic Telecom</td>\n",
       "      <td>MOHALI</td>\n",
       "      <td>OPPO</td>\n",
       "      <td>A37</td>\n",
       "      <td>GOLDEN</td>\n",
       "      <td>8990</td>\n",
       "      <td>8.600000e+14</td>\n",
       "      <td>CHARAN PAL</td>\n",
       "      <td>Sold out</td>\n",
       "      <td>1/25/2018 19:29</td>\n",
       "    </tr>\n",
       "  </tbody>\n",
       "</table>\n",
       "</div>"
      ],
      "text/plain": [
       "                                   Agent  Bill Name                 Dealer  \\\n",
       "0    19-LDH(A)-ALLIED MARKETING-LUDHIANA        NaN  Trendz Digi World-LDH   \n",
       "1               07(A)-BTI-GOPAL AGENCIES        NaN         AD enterprises   \n",
       "2  09-PTL(B)-NAINA SALES PVT. LTD-PATRAN        NaN      NAV TELECOM-Nabha   \n",
       "3    19-LDH(A)-ALLIED MARKETING-LUDHIANA        NaN        SRP Electronics   \n",
       "4       22-MHL(A)-SANGAM SALES PVT. LTD.        NaN        Classic Telecom   \n",
       "\n",
       "   District Brand     Model   Color  Model Price          IMEI  \\\n",
       "0  LUDHIANA  OPPO  1201 16G   BLACK         7990  1.050000e+14   \n",
       "1  BHATINDA  OPPO       A37  GOLDEN         8990  8.600000e+14   \n",
       "2   PATIALA  OPPO       A37  GOLDEN         8990  8.600000e+14   \n",
       "3  LUDHIANA  OPPO       A37  GOLDEN         8990  8.600000e+14   \n",
       "4    MOHALI  OPPO       A37  GOLDEN         8990  8.600000e+14   \n",
       "\n",
       "                    Reporter     State        Date Time  \n",
       "0         SO KHANNA GURPREET  Sold out  1/30/2018 12:26  \n",
       "1  GURMINDER SINGH-5106(BTA)  Sold out   1/3/2018 19:11  \n",
       "2      VARUN KUMAR-4587(PTL)  Sold out  1/24/2018 22:56  \n",
       "3         SO KHANNA GURPREET  Sold out   1/8/2018 14:20  \n",
       "4                 CHARAN PAL  Sold out  1/25/2018 19:29  "
      ]
     },
     "execution_count": 1,
     "metadata": {},
     "output_type": "execute_result"
    }
   ],
   "source": [
    "# reading first file (jan2018)\n",
    "import pandas as pd\n",
    "IMEI_data = pd.read_csv(\"Sales_Data_2018/1-2018.csv\",encoding=\"latin\")\n",
    "IMEI_data.head()"
   ]
  },
  {
   "cell_type": "code",
   "execution_count": 2,
   "metadata": {},
   "outputs": [
    {
     "data": {
      "text/html": [
       "<div>\n",
       "<style scoped>\n",
       "    .dataframe tbody tr th:only-of-type {\n",
       "        vertical-align: middle;\n",
       "    }\n",
       "\n",
       "    .dataframe tbody tr th {\n",
       "        vertical-align: top;\n",
       "    }\n",
       "\n",
       "    .dataframe thead th {\n",
       "        text-align: right;\n",
       "    }\n",
       "</style>\n",
       "<table border=\"1\" class=\"dataframe\">\n",
       "  <thead>\n",
       "    <tr style=\"text-align: right;\">\n",
       "      <th></th>\n",
       "      <th>Agent</th>\n",
       "      <th>Bill Name</th>\n",
       "      <th>Dealer</th>\n",
       "      <th>District</th>\n",
       "      <th>Brand</th>\n",
       "      <th>Model</th>\n",
       "      <th>Color</th>\n",
       "      <th>Model Price</th>\n",
       "      <th>IMEI</th>\n",
       "      <th>Reporter</th>\n",
       "      <th>State</th>\n",
       "      <th>Date Time</th>\n",
       "    </tr>\n",
       "  </thead>\n",
       "  <tbody>\n",
       "    <tr>\n",
       "      <th>0</th>\n",
       "      <td>19-LDH(A)-ALLIED MARKETING-LUDHIANA</td>\n",
       "      <td>NaN</td>\n",
       "      <td>Trendz Digi World-LDH</td>\n",
       "      <td>LUDHIANA</td>\n",
       "      <td>OPPO</td>\n",
       "      <td>1201 16G</td>\n",
       "      <td>BLACK</td>\n",
       "      <td>7990</td>\n",
       "      <td>1.050000e+14</td>\n",
       "      <td>SO KHANNA GURPREET</td>\n",
       "      <td>Sold out</td>\n",
       "      <td>1/30/2018 12:26</td>\n",
       "    </tr>\n",
       "    <tr>\n",
       "      <th>1</th>\n",
       "      <td>07(A)-BTI-GOPAL AGENCIES</td>\n",
       "      <td>NaN</td>\n",
       "      <td>AD enterprises</td>\n",
       "      <td>BHATINDA</td>\n",
       "      <td>OPPO</td>\n",
       "      <td>A37</td>\n",
       "      <td>GOLDEN</td>\n",
       "      <td>8990</td>\n",
       "      <td>8.600000e+14</td>\n",
       "      <td>GURMINDER SINGH-5106(BTA)</td>\n",
       "      <td>Sold out</td>\n",
       "      <td>1/3/2018 19:11</td>\n",
       "    </tr>\n",
       "    <tr>\n",
       "      <th>2</th>\n",
       "      <td>09-PTL(B)-NAINA SALES PVT. LTD-PATRAN</td>\n",
       "      <td>NaN</td>\n",
       "      <td>NAV TELECOM-Nabha</td>\n",
       "      <td>PATIALA</td>\n",
       "      <td>OPPO</td>\n",
       "      <td>A37</td>\n",
       "      <td>GOLDEN</td>\n",
       "      <td>8990</td>\n",
       "      <td>8.600000e+14</td>\n",
       "      <td>VARUN KUMAR-4587(PTL)</td>\n",
       "      <td>Sold out</td>\n",
       "      <td>1/24/2018 22:56</td>\n",
       "    </tr>\n",
       "    <tr>\n",
       "      <th>3</th>\n",
       "      <td>19-LDH(A)-ALLIED MARKETING-LUDHIANA</td>\n",
       "      <td>NaN</td>\n",
       "      <td>SRP Electronics</td>\n",
       "      <td>LUDHIANA</td>\n",
       "      <td>OPPO</td>\n",
       "      <td>A37</td>\n",
       "      <td>GOLDEN</td>\n",
       "      <td>8990</td>\n",
       "      <td>8.600000e+14</td>\n",
       "      <td>SO KHANNA GURPREET</td>\n",
       "      <td>Sold out</td>\n",
       "      <td>1/8/2018 14:20</td>\n",
       "    </tr>\n",
       "    <tr>\n",
       "      <th>4</th>\n",
       "      <td>22-MHL(A)-SANGAM SALES PVT. LTD.</td>\n",
       "      <td>NaN</td>\n",
       "      <td>Classic Telecom</td>\n",
       "      <td>MOHALI</td>\n",
       "      <td>OPPO</td>\n",
       "      <td>A37</td>\n",
       "      <td>GOLDEN</td>\n",
       "      <td>8990</td>\n",
       "      <td>8.600000e+14</td>\n",
       "      <td>CHARAN PAL</td>\n",
       "      <td>Sold out</td>\n",
       "      <td>1/25/2018 19:29</td>\n",
       "    </tr>\n",
       "  </tbody>\n",
       "</table>\n",
       "</div>"
      ],
      "text/plain": [
       "                                   Agent  Bill Name                 Dealer  \\\n",
       "0    19-LDH(A)-ALLIED MARKETING-LUDHIANA        NaN  Trendz Digi World-LDH   \n",
       "1               07(A)-BTI-GOPAL AGENCIES        NaN         AD enterprises   \n",
       "2  09-PTL(B)-NAINA SALES PVT. LTD-PATRAN        NaN      NAV TELECOM-Nabha   \n",
       "3    19-LDH(A)-ALLIED MARKETING-LUDHIANA        NaN        SRP Electronics   \n",
       "4       22-MHL(A)-SANGAM SALES PVT. LTD.        NaN        Classic Telecom   \n",
       "\n",
       "   District Brand     Model   Color  Model Price          IMEI  \\\n",
       "0  LUDHIANA  OPPO  1201 16G   BLACK         7990  1.050000e+14   \n",
       "1  BHATINDA  OPPO       A37  GOLDEN         8990  8.600000e+14   \n",
       "2   PATIALA  OPPO       A37  GOLDEN         8990  8.600000e+14   \n",
       "3  LUDHIANA  OPPO       A37  GOLDEN         8990  8.600000e+14   \n",
       "4    MOHALI  OPPO       A37  GOLDEN         8990  8.600000e+14   \n",
       "\n",
       "                    Reporter     State        Date Time  \n",
       "0         SO KHANNA GURPREET  Sold out  1/30/2018 12:26  \n",
       "1  GURMINDER SINGH-5106(BTA)  Sold out   1/3/2018 19:11  \n",
       "2      VARUN KUMAR-4587(PTL)  Sold out  1/24/2018 22:56  \n",
       "3         SO KHANNA GURPREET  Sold out   1/8/2018 14:20  \n",
       "4                 CHARAN PAL  Sold out  1/25/2018 19:29  "
      ]
     },
     "execution_count": 2,
     "metadata": {},
     "output_type": "execute_result"
    }
   ],
   "source": [
    "# adding all months data into same data frame.\n",
    "path = \"Sales_Data_2018/\"\n",
    "for i in range(2,13):\n",
    "    path = \"Sales_Data_2018/\"+str(i)+\"-2018.csv\"\n",
    "    file = pd.read_csv(path,encoding=\"latin\")\n",
    "    IMEI_data = IMEI_data.append(file)\n",
    "IMEI_data.head()"
   ]
  },
  {
   "cell_type": "code",
   "execution_count": 3,
   "metadata": {},
   "outputs": [
    {
     "data": {
      "text/plain": [
       "(440273, 12)"
      ]
     },
     "execution_count": 3,
     "metadata": {},
     "output_type": "execute_result"
    }
   ],
   "source": [
    "IMEI_data.shape"
   ]
  },
  {
   "cell_type": "code",
   "execution_count": 4,
   "metadata": {},
   "outputs": [
    {
     "data": {
      "text/plain": [
       "Agent           object\n",
       "Bill Name      float64\n",
       "Dealer          object\n",
       "District        object\n",
       "Brand           object\n",
       "Model           object\n",
       "Color           object\n",
       "Model Price      int64\n",
       "IMEI           float64\n",
       "Reporter        object\n",
       "State           object\n",
       "Date Time       object\n",
       "dtype: object"
      ]
     },
     "execution_count": 4,
     "metadata": {},
     "output_type": "execute_result"
    }
   ],
   "source": [
    "IMEI_data.dtypes"
   ]
  },
  {
   "cell_type": "code",
   "execution_count": 5,
   "metadata": {},
   "outputs": [
    {
     "data": {
      "text/plain": [
       "array(['1201 16G', 'A37', 'F1', 'F1S', 'R1201', 'A33F', 'F1-PLUS',\n",
       "       'F1S 64GB', 'A57', 'F3 Plus', 'F3', 'F3 (CPH1609)', 'A71(CPH1717)',\n",
       "       'F5 Youth(CPH1725)', 'F5(CPH1723)', 'F5 6GB(CPH1727)',\n",
       "       'A83(CPH1729)', 'A33F(IN)-3', 'R7 PLUSF', 'A71 3GB(CPH1801)',\n",
       "       'A51W', 'A83 4GB(CPH1729)', 'F7 PRO(CPH1821)', 'F7(CPH1819)',\n",
       "       'R829', 'A71K(CPH1801)', 'A83 3GB(CPH1827)', 'A11W',\n",
       "       'A3S 2GB (CPH1803)', 'F9Pro(CPH1823)', 'F1-ICC', 'A5 4GB(CPH1809)',\n",
       "       'A3S 3GB(CPH1803)', 'FIND X (CPH1871)', 'F9(CPH1881)',\n",
       "       'F7 128GB(CPH1821)', 'F9PRO128 CPH1823', 'A83 2GB(CPH1827)',\n",
       "       'A7 4GB(CPH1901)', 'A83(CPH1729)old', 'A3S 2GB(CPH1853)',\n",
       "       'R17PRO(CPH1877)', 'R1011'], dtype=object)"
      ]
     },
     "execution_count": 5,
     "metadata": {},
     "output_type": "execute_result"
    }
   ],
   "source": [
    "IMEI_data.Model.unique()"
   ]
  },
  {
   "cell_type": "code",
   "execution_count": 6,
   "metadata": {},
   "outputs": [
    {
     "data": {
      "text/html": [
       "<div>\n",
       "<style scoped>\n",
       "    .dataframe tbody tr th:only-of-type {\n",
       "        vertical-align: middle;\n",
       "    }\n",
       "\n",
       "    .dataframe tbody tr th {\n",
       "        vertical-align: top;\n",
       "    }\n",
       "\n",
       "    .dataframe thead th {\n",
       "        text-align: right;\n",
       "    }\n",
       "</style>\n",
       "<table border=\"1\" class=\"dataframe\">\n",
       "  <thead>\n",
       "    <tr style=\"text-align: right;\">\n",
       "      <th></th>\n",
       "      <th>Agent</th>\n",
       "      <th>Bill Name</th>\n",
       "      <th>Dealer</th>\n",
       "      <th>District</th>\n",
       "      <th>Brand</th>\n",
       "      <th>Model</th>\n",
       "      <th>Color</th>\n",
       "      <th>Model Price</th>\n",
       "      <th>IMEI</th>\n",
       "      <th>Reporter</th>\n",
       "      <th>State</th>\n",
       "      <th>Date Time</th>\n",
       "    </tr>\n",
       "  </thead>\n",
       "  <tbody>\n",
       "    <tr>\n",
       "      <th>0</th>\n",
       "      <td>19-LDH(A)-ALLIED MARKETING-LUDHIANA</td>\n",
       "      <td>NaN</td>\n",
       "      <td>Trendz Digi World-LDH</td>\n",
       "      <td>LUDHIANA</td>\n",
       "      <td>OPPO</td>\n",
       "      <td>1201 16G</td>\n",
       "      <td>BLACK</td>\n",
       "      <td>7990</td>\n",
       "      <td>1.050000e+14</td>\n",
       "      <td>SO KHANNA GURPREET</td>\n",
       "      <td>Sold out</td>\n",
       "      <td>1/30/2018 12:26</td>\n",
       "    </tr>\n",
       "    <tr>\n",
       "      <th>1</th>\n",
       "      <td>07(A)-BTI-GOPAL AGENCIES</td>\n",
       "      <td>NaN</td>\n",
       "      <td>AD enterprises</td>\n",
       "      <td>BHATINDA</td>\n",
       "      <td>OPPO</td>\n",
       "      <td>A37</td>\n",
       "      <td>GOLDEN</td>\n",
       "      <td>8990</td>\n",
       "      <td>8.600000e+14</td>\n",
       "      <td>GURMINDER SINGH-5106(BTA)</td>\n",
       "      <td>Sold out</td>\n",
       "      <td>1/3/2018 19:11</td>\n",
       "    </tr>\n",
       "    <tr>\n",
       "      <th>2</th>\n",
       "      <td>09-PTL(B)-NAINA SALES PVT. LTD-PATRAN</td>\n",
       "      <td>NaN</td>\n",
       "      <td>NAV TELECOM-Nabha</td>\n",
       "      <td>PATIALA</td>\n",
       "      <td>OPPO</td>\n",
       "      <td>A37</td>\n",
       "      <td>GOLDEN</td>\n",
       "      <td>8990</td>\n",
       "      <td>8.600000e+14</td>\n",
       "      <td>VARUN KUMAR-4587(PTL)</td>\n",
       "      <td>Sold out</td>\n",
       "      <td>1/24/2018 22:56</td>\n",
       "    </tr>\n",
       "    <tr>\n",
       "      <th>3</th>\n",
       "      <td>19-LDH(A)-ALLIED MARKETING-LUDHIANA</td>\n",
       "      <td>NaN</td>\n",
       "      <td>SRP Electronics</td>\n",
       "      <td>LUDHIANA</td>\n",
       "      <td>OPPO</td>\n",
       "      <td>A37</td>\n",
       "      <td>GOLDEN</td>\n",
       "      <td>8990</td>\n",
       "      <td>8.600000e+14</td>\n",
       "      <td>SO KHANNA GURPREET</td>\n",
       "      <td>Sold out</td>\n",
       "      <td>1/8/2018 14:20</td>\n",
       "    </tr>\n",
       "    <tr>\n",
       "      <th>4</th>\n",
       "      <td>22-MHL(A)-SANGAM SALES PVT. LTD.</td>\n",
       "      <td>NaN</td>\n",
       "      <td>Classic Telecom</td>\n",
       "      <td>MOHALI</td>\n",
       "      <td>OPPO</td>\n",
       "      <td>A37</td>\n",
       "      <td>GOLDEN</td>\n",
       "      <td>8990</td>\n",
       "      <td>8.600000e+14</td>\n",
       "      <td>CHARAN PAL</td>\n",
       "      <td>Sold out</td>\n",
       "      <td>1/25/2018 19:29</td>\n",
       "    </tr>\n",
       "  </tbody>\n",
       "</table>\n",
       "</div>"
      ],
      "text/plain": [
       "                                   Agent  Bill Name                 Dealer  \\\n",
       "0    19-LDH(A)-ALLIED MARKETING-LUDHIANA        NaN  Trendz Digi World-LDH   \n",
       "1               07(A)-BTI-GOPAL AGENCIES        NaN         AD enterprises   \n",
       "2  09-PTL(B)-NAINA SALES PVT. LTD-PATRAN        NaN      NAV TELECOM-Nabha   \n",
       "3    19-LDH(A)-ALLIED MARKETING-LUDHIANA        NaN        SRP Electronics   \n",
       "4       22-MHL(A)-SANGAM SALES PVT. LTD.        NaN        Classic Telecom   \n",
       "\n",
       "   District Brand     Model   Color  Model Price          IMEI  \\\n",
       "0  LUDHIANA  OPPO  1201 16G   BLACK         7990  1.050000e+14   \n",
       "1  BHATINDA  OPPO       A37  GOLDEN         8990  8.600000e+14   \n",
       "2   PATIALA  OPPO       A37  GOLDEN         8990  8.600000e+14   \n",
       "3  LUDHIANA  OPPO       A37  GOLDEN         8990  8.600000e+14   \n",
       "4    MOHALI  OPPO       A37  GOLDEN         8990  8.600000e+14   \n",
       "\n",
       "                    Reporter     State        Date Time  \n",
       "0         SO KHANNA GURPREET  Sold out  1/30/2018 12:26  \n",
       "1  GURMINDER SINGH-5106(BTA)  Sold out   1/3/2018 19:11  \n",
       "2      VARUN KUMAR-4587(PTL)  Sold out  1/24/2018 22:56  \n",
       "3         SO KHANNA GURPREET  Sold out   1/8/2018 14:20  \n",
       "4                 CHARAN PAL  Sold out  1/25/2018 19:29  "
      ]
     },
     "execution_count": 6,
     "metadata": {},
     "output_type": "execute_result"
    }
   ],
   "source": [
    "IMEI_data.head()"
   ]
  },
  {
   "cell_type": "code",
   "execution_count": 7,
   "metadata": {},
   "outputs": [
    {
     "data": {
      "text/html": [
       "<div>\n",
       "<style scoped>\n",
       "    .dataframe tbody tr th:only-of-type {\n",
       "        vertical-align: middle;\n",
       "    }\n",
       "\n",
       "    .dataframe tbody tr th {\n",
       "        vertical-align: top;\n",
       "    }\n",
       "\n",
       "    .dataframe thead th {\n",
       "        text-align: right;\n",
       "    }\n",
       "</style>\n",
       "<table border=\"1\" class=\"dataframe\">\n",
       "  <thead>\n",
       "    <tr style=\"text-align: right;\">\n",
       "      <th></th>\n",
       "      <th>Agent</th>\n",
       "      <th>Bill Name</th>\n",
       "      <th>Dealer</th>\n",
       "      <th>District</th>\n",
       "      <th>Brand</th>\n",
       "      <th>Model</th>\n",
       "      <th>Color</th>\n",
       "      <th>Model Price</th>\n",
       "      <th>IMEI</th>\n",
       "      <th>Reporter</th>\n",
       "      <th>State</th>\n",
       "      <th>Date Time</th>\n",
       "      <th>Date</th>\n",
       "    </tr>\n",
       "  </thead>\n",
       "  <tbody>\n",
       "    <tr>\n",
       "      <th>0</th>\n",
       "      <td>19-LDH(A)-ALLIED MARKETING-LUDHIANA</td>\n",
       "      <td>NaN</td>\n",
       "      <td>Trendz Digi World-LDH</td>\n",
       "      <td>LUDHIANA</td>\n",
       "      <td>OPPO</td>\n",
       "      <td>1201 16G</td>\n",
       "      <td>BLACK</td>\n",
       "      <td>7990</td>\n",
       "      <td>1.050000e+14</td>\n",
       "      <td>SO KHANNA GURPREET</td>\n",
       "      <td>Sold out</td>\n",
       "      <td>1/30/2018 12:26</td>\n",
       "      <td>1/30/2018</td>\n",
       "    </tr>\n",
       "    <tr>\n",
       "      <th>1</th>\n",
       "      <td>07(A)-BTI-GOPAL AGENCIES</td>\n",
       "      <td>NaN</td>\n",
       "      <td>AD enterprises</td>\n",
       "      <td>BHATINDA</td>\n",
       "      <td>OPPO</td>\n",
       "      <td>A37</td>\n",
       "      <td>GOLDEN</td>\n",
       "      <td>8990</td>\n",
       "      <td>8.600000e+14</td>\n",
       "      <td>GURMINDER SINGH-5106(BTA)</td>\n",
       "      <td>Sold out</td>\n",
       "      <td>1/3/2018 19:11</td>\n",
       "      <td>1/3/2018</td>\n",
       "    </tr>\n",
       "    <tr>\n",
       "      <th>2</th>\n",
       "      <td>09-PTL(B)-NAINA SALES PVT. LTD-PATRAN</td>\n",
       "      <td>NaN</td>\n",
       "      <td>NAV TELECOM-Nabha</td>\n",
       "      <td>PATIALA</td>\n",
       "      <td>OPPO</td>\n",
       "      <td>A37</td>\n",
       "      <td>GOLDEN</td>\n",
       "      <td>8990</td>\n",
       "      <td>8.600000e+14</td>\n",
       "      <td>VARUN KUMAR-4587(PTL)</td>\n",
       "      <td>Sold out</td>\n",
       "      <td>1/24/2018 22:56</td>\n",
       "      <td>1/24/2018</td>\n",
       "    </tr>\n",
       "    <tr>\n",
       "      <th>3</th>\n",
       "      <td>19-LDH(A)-ALLIED MARKETING-LUDHIANA</td>\n",
       "      <td>NaN</td>\n",
       "      <td>SRP Electronics</td>\n",
       "      <td>LUDHIANA</td>\n",
       "      <td>OPPO</td>\n",
       "      <td>A37</td>\n",
       "      <td>GOLDEN</td>\n",
       "      <td>8990</td>\n",
       "      <td>8.600000e+14</td>\n",
       "      <td>SO KHANNA GURPREET</td>\n",
       "      <td>Sold out</td>\n",
       "      <td>1/8/2018 14:20</td>\n",
       "      <td>1/8/2018</td>\n",
       "    </tr>\n",
       "    <tr>\n",
       "      <th>4</th>\n",
       "      <td>22-MHL(A)-SANGAM SALES PVT. LTD.</td>\n",
       "      <td>NaN</td>\n",
       "      <td>Classic Telecom</td>\n",
       "      <td>MOHALI</td>\n",
       "      <td>OPPO</td>\n",
       "      <td>A37</td>\n",
       "      <td>GOLDEN</td>\n",
       "      <td>8990</td>\n",
       "      <td>8.600000e+14</td>\n",
       "      <td>CHARAN PAL</td>\n",
       "      <td>Sold out</td>\n",
       "      <td>1/25/2018 19:29</td>\n",
       "      <td>1/25/2018</td>\n",
       "    </tr>\n",
       "  </tbody>\n",
       "</table>\n",
       "</div>"
      ],
      "text/plain": [
       "                                   Agent  Bill Name                 Dealer  \\\n",
       "0    19-LDH(A)-ALLIED MARKETING-LUDHIANA        NaN  Trendz Digi World-LDH   \n",
       "1               07(A)-BTI-GOPAL AGENCIES        NaN         AD enterprises   \n",
       "2  09-PTL(B)-NAINA SALES PVT. LTD-PATRAN        NaN      NAV TELECOM-Nabha   \n",
       "3    19-LDH(A)-ALLIED MARKETING-LUDHIANA        NaN        SRP Electronics   \n",
       "4       22-MHL(A)-SANGAM SALES PVT. LTD.        NaN        Classic Telecom   \n",
       "\n",
       "   District Brand     Model   Color  Model Price          IMEI  \\\n",
       "0  LUDHIANA  OPPO  1201 16G   BLACK         7990  1.050000e+14   \n",
       "1  BHATINDA  OPPO       A37  GOLDEN         8990  8.600000e+14   \n",
       "2   PATIALA  OPPO       A37  GOLDEN         8990  8.600000e+14   \n",
       "3  LUDHIANA  OPPO       A37  GOLDEN         8990  8.600000e+14   \n",
       "4    MOHALI  OPPO       A37  GOLDEN         8990  8.600000e+14   \n",
       "\n",
       "                    Reporter     State        Date Time       Date  \n",
       "0         SO KHANNA GURPREET  Sold out  1/30/2018 12:26  1/30/2018  \n",
       "1  GURMINDER SINGH-5106(BTA)  Sold out   1/3/2018 19:11   1/3/2018  \n",
       "2      VARUN KUMAR-4587(PTL)  Sold out  1/24/2018 22:56  1/24/2018  \n",
       "3         SO KHANNA GURPREET  Sold out   1/8/2018 14:20   1/8/2018  \n",
       "4                 CHARAN PAL  Sold out  1/25/2018 19:29  1/25/2018  "
      ]
     },
     "execution_count": 7,
     "metadata": {},
     "output_type": "execute_result"
    }
   ],
   "source": [
    "# splitting Date from Date Time column.\n",
    "IMEI_data[\"Date\"] = [x.split()[0] for x in IMEI_data[\"Date Time\"]]\n",
    "IMEI_data.head()"
   ]
  },
  {
   "cell_type": "code",
   "execution_count": 8,
   "metadata": {},
   "outputs": [
    {
     "data": {
      "text/html": [
       "<div>\n",
       "<style scoped>\n",
       "    .dataframe tbody tr th:only-of-type {\n",
       "        vertical-align: middle;\n",
       "    }\n",
       "\n",
       "    .dataframe tbody tr th {\n",
       "        vertical-align: top;\n",
       "    }\n",
       "\n",
       "    .dataframe thead th {\n",
       "        text-align: right;\n",
       "    }\n",
       "</style>\n",
       "<table border=\"1\" class=\"dataframe\">\n",
       "  <thead>\n",
       "    <tr style=\"text-align: right;\">\n",
       "      <th></th>\n",
       "      <th>Date</th>\n",
       "      <th>Sales</th>\n",
       "    </tr>\n",
       "  </thead>\n",
       "  <tbody>\n",
       "    <tr>\n",
       "      <th>0</th>\n",
       "      <td>1/1/2018</td>\n",
       "      <td>982</td>\n",
       "    </tr>\n",
       "    <tr>\n",
       "      <th>1</th>\n",
       "      <td>1/10/2018</td>\n",
       "      <td>1076</td>\n",
       "    </tr>\n",
       "    <tr>\n",
       "      <th>2</th>\n",
       "      <td>1/11/2018</td>\n",
       "      <td>1106</td>\n",
       "    </tr>\n",
       "    <tr>\n",
       "      <th>3</th>\n",
       "      <td>1/12/2018</td>\n",
       "      <td>1112</td>\n",
       "    </tr>\n",
       "    <tr>\n",
       "      <th>4</th>\n",
       "      <td>1/13/2018</td>\n",
       "      <td>897</td>\n",
       "    </tr>\n",
       "  </tbody>\n",
       "</table>\n",
       "</div>"
      ],
      "text/plain": [
       "        Date  Sales\n",
       "0   1/1/2018    982\n",
       "1  1/10/2018   1076\n",
       "2  1/11/2018   1106\n",
       "3  1/12/2018   1112\n",
       "4  1/13/2018    897"
      ]
     },
     "execution_count": 8,
     "metadata": {},
     "output_type": "execute_result"
    }
   ],
   "source": [
    "# Grouping sales data for date wise count\n",
    "sales_data = IMEI_data.groupby(\"Date\").count()\n",
    "sales_data.reset_index(inplace=True)\n",
    "\n",
    "final_count = sales_data.iloc[:,0:2]\n",
    "final_count.rename(columns={\"Agent\":\"Sales\"},inplace=True)\n",
    "\n",
    "final_count.head()"
   ]
  },
  {
   "cell_type": "code",
   "execution_count": 9,
   "metadata": {},
   "outputs": [
    {
     "data": {
      "text/html": [
       "<div>\n",
       "<style scoped>\n",
       "    .dataframe tbody tr th:only-of-type {\n",
       "        vertical-align: middle;\n",
       "    }\n",
       "\n",
       "    .dataframe tbody tr th {\n",
       "        vertical-align: top;\n",
       "    }\n",
       "\n",
       "    .dataframe thead th {\n",
       "        text-align: right;\n",
       "    }\n",
       "</style>\n",
       "<table border=\"1\" class=\"dataframe\">\n",
       "  <thead>\n",
       "    <tr style=\"text-align: right;\">\n",
       "      <th></th>\n",
       "      <th>Sales</th>\n",
       "    </tr>\n",
       "    <tr>\n",
       "      <th>Date</th>\n",
       "      <th></th>\n",
       "    </tr>\n",
       "  </thead>\n",
       "  <tbody>\n",
       "    <tr>\n",
       "      <th>2018-01-01</th>\n",
       "      <td>982</td>\n",
       "    </tr>\n",
       "    <tr>\n",
       "      <th>2018-01-02</th>\n",
       "      <td>1082</td>\n",
       "    </tr>\n",
       "    <tr>\n",
       "      <th>2018-01-03</th>\n",
       "      <td>992</td>\n",
       "    </tr>\n",
       "    <tr>\n",
       "      <th>2018-01-04</th>\n",
       "      <td>948</td>\n",
       "    </tr>\n",
       "    <tr>\n",
       "      <th>2018-01-05</th>\n",
       "      <td>1050</td>\n",
       "    </tr>\n",
       "  </tbody>\n",
       "</table>\n",
       "</div>"
      ],
      "text/plain": [
       "            Sales\n",
       "Date             \n",
       "2018-01-01    982\n",
       "2018-01-02   1082\n",
       "2018-01-03    992\n",
       "2018-01-04    948\n",
       "2018-01-05   1050"
      ]
     },
     "execution_count": 9,
     "metadata": {},
     "output_type": "execute_result"
    }
   ],
   "source": [
    "#converting date column into date time index\n",
    "final_count[\"Date\"] = pd.to_datetime(final_count[\"Date\"])\n",
    "final_data = final_count.copy()\n",
    "final_data.set_index(\"Date\",inplace=True)\n",
    "final_data.sort_index(inplace = True)\n",
    "final_data.head()"
   ]
  },
  {
   "cell_type": "code",
   "execution_count": 10,
   "metadata": {},
   "outputs": [
    {
     "data": {
      "text/plain": [
       "pandas.core.series.Series"
      ]
     },
     "execution_count": 10,
     "metadata": {},
     "output_type": "execute_result"
    }
   ],
   "source": [
    "# Converting dataframe to Series\n",
    "Sales_series = pd.Series(final_data.Sales,index = final_data.index)\n",
    "type(Sales_series)"
   ]
  },
  {
   "cell_type": "markdown",
   "metadata": {},
   "source": [
    "#### To forcast the sale, we need to apply any time series model and to apply model first we need to check that time series if stationary or not. Because we can use model only when data is stationary.\n",
    "How to check:\n",
    "1. Visualization\n",
    "2. Constant Mean & Variance\n",
    "3. Dicky fuller test"
   ]
  },
  {
   "cell_type": "code",
   "execution_count": 11,
   "metadata": {},
   "outputs": [
    {
     "data": {
      "text/plain": [
       "[<matplotlib.lines.Line2D at 0x18ddb242f60>]"
      ]
     },
     "execution_count": 11,
     "metadata": {},
     "output_type": "execute_result"
    },
    {
     "data": {
      "image/png": "[encoded data removed]",
      "text/plain": [
       "<Figure size 1440x288 with 1 Axes>"
      ]
     },
     "metadata": {
      "needs_background": "light"
     },
     "output_type": "display_data"
    }
   ],
   "source": [
    "# Ploting the sales time series to check stationarity:Trend,seasonality etc.\n",
    "import matplotlib.pyplot as plt\n",
    "import warnings\n",
    "warnings.filterwarnings('ignore')\n",
    "%matplotlib inline\n",
    "plt.figure(figsize=(20,4))\n",
    "plt.plot(Sales_series)"
   ]
  },
  {
   "cell_type": "markdown",
   "metadata": {},
   "source": [
    "### There is a bit trend component but we can't say anything about other components (seasonality,cyclicity etc)."
   ]
  },
  {
   "cell_type": "code",
   "execution_count": 12,
   "metadata": {},
   "outputs": [
    {
     "data": {
      "text/plain": [
       "<matplotlib.axes._subplots.AxesSubplot at 0x18ddb2f1b38>"
      ]
     },
     "execution_count": 12,
     "metadata": {},
     "output_type": "execute_result"
    },
    {
     "data": {
      "image/png": "[encoded data removed]",
      "text/plain": [
       "<Figure size 432x288 with 1 Axes>"
      ]
     },
     "metadata": {
      "needs_background": "light"
     },
     "output_type": "display_data"
    }
   ],
   "source": [
    "Sales_series.hist()"
   ]
  },
  {
   "cell_type": "markdown",
   "metadata": {},
   "source": [
    "#### It says almost 200 days having more then 1000 sales per day."
   ]
  },
  {
   "cell_type": "markdown",
   "metadata": {},
   "source": [
    "###"
   ]
  },
  {
   "cell_type": "markdown",
   "metadata": {},
   "source": [
    "### Checking, time series have constant mean & Variance or not"
   ]
  },
  {
   "cell_type": "code",
   "execution_count": 13,
   "metadata": {},
   "outputs": [
    {
     "name": "stdout",
     "output_type": "stream",
     "text": [
      "Data 1 mean: 1025\n",
      "Data 2 mean: 1386\n",
      "\n",
      "Data 1 Variance: 99437\n",
      "Data 2 Variance: 286021\n"
     ]
    }
   ],
   "source": [
    "# we need to split data to check constant mean & variance\n",
    "data1 = Sales_series[0:182]\n",
    "data2 = Sales_series[182:366]\n",
    "\n",
    "mean1 = int(data1.mean())\n",
    "mean2 = int(data2.mean())\n",
    "var1 = int(data1.var())\n",
    "var2 = int(data2.var())\n",
    "\n",
    "print(\"Data 1 mean: {}\\nData 2 mean: {}\\n\".format(mean1,mean2))\n",
    "print(\"Data 1 Variance: {}\\nData 2 Variance: {}\".format(var1,var2))"
   ]
  },
  {
   "cell_type": "markdown",
   "metadata": {},
   "source": [
    "#### Mean and Variance is not constant. But to check properly, we need to check with different time periods. (Bit difficult to perform)"
   ]
  },
  {
   "cell_type": "markdown",
   "metadata": {},
   "source": [
    "### Dicky Fuller Test"
   ]
  },
  {
   "cell_type": "code",
   "execution_count": 14,
   "metadata": {},
   "outputs": [],
   "source": [
    "from statsmodels.tsa.stattools import adfuller\n",
    "def adfuller_test(ts):\n",
    "    stats = ['Test Statistic','p-value','Lags','Observations']\n",
    "    df_test = adfuller(ts, autolag='AIC')\n",
    "    df_results = pd.Series(df_test[0:4], index=stats)\n",
    "    for key,value in df_test[4].items():\n",
    "        df_results['Critical Value (%s)'%key] = value\n",
    "    print(df_results)\n",
    "    if df_results[0] < df_test[4][\"5%\"]:\n",
    "        print(\"Reject Ho -- Time Series is Stationary.\")\n",
    "    else:\n",
    "        print('Failed to Reject Ho -- Time Series is Stationary.')"
   ]
  },
  {
   "cell_type": "code",
   "execution_count": 15,
   "metadata": {},
   "outputs": [
    {
     "name": "stdout",
     "output_type": "stream",
     "text": [
      "Test Statistic           -3.434750\n",
      "p-value                   0.009830\n",
      "Lags                     14.000000\n",
      "Observations            350.000000\n",
      "Critical Value (1%)      -3.449173\n",
      "Critical Value (5%)      -2.869833\n",
      "Critical Value (10%)     -2.571188\n",
      "dtype: float64\n",
      "Reject Ho -- Time Series is Stationary.\n"
     ]
    }
   ],
   "source": [
    "adfuller_test(Sales_series)"
   ]
  },
  {
   "cell_type": "markdown",
   "metadata": {},
   "source": [
    "#### Because Test Statistic value is less than Critical Value(5%) so Reject the Null Hypothesis."
   ]
  },
  {
   "cell_type": "markdown",
   "metadata": {},
   "source": [
    "### Our time series is Stationary, Now we can apply Model for Forcasting"
   ]
  },
  {
   "cell_type": "markdown",
   "metadata": {},
   "source": [
    "## ARIMA"
   ]
  },
  {
   "cell_type": "markdown",
   "metadata": {},
   "source": [
    "#### ARIMA model takes the order of p,d,q values. p value is lag value for AR term, d value is difference value for making series stationary and q value for MA term to give errors in forcast equation.\n",
    "##### To find p and q we can check PACF and ACF."
   ]
  },
  {
   "cell_type": "code",
   "execution_count": 16,
   "metadata": {},
   "outputs": [
    {
     "data": {
      "image/png": "[encoded data removed]",
      "text/plain": [
       "<Figure size 864x576 with 2 Axes>"
      ]
     },
     "metadata": {
      "needs_background": "light"
     },
     "output_type": "display_data"
    }
   ],
   "source": [
    "import statsmodels.api as sm  \n",
    "# ACF, PACF graphs to help determine order of ARIMA model\n",
    "fig = plt.figure(figsize=(12,8))\n",
    "ax1 = fig.add_subplot(211)\n",
    "fig = sm.graphics.tsa.plot_acf(Sales_series, lags=40, ax=ax1)   # first value of diff is NaN\n",
    "ax2 = fig.add_subplot(212)\n",
    "fig = sm.graphics.tsa.plot_pacf(Sales_series, lags=40, ax=ax2)"
   ]
  },
  {
   "cell_type": "markdown",
   "metadata": {},
   "source": [
    "#### By looking at ACF plot, we can put q as 4 or 5 into ARIMA order and for PACF plot, we can put p as 3 or 4 or 5. (As Experiment)"
   ]
  },
  {
   "cell_type": "code",
   "execution_count": 17,
   "metadata": {},
   "outputs": [],
   "source": [
    "# p = 4,5\n",
    "# d = 0 (because our series is already stationary)\n",
    "# q = 3,4,5"
   ]
  },
  {
   "cell_type": "code",
   "execution_count": 18,
   "metadata": {},
   "outputs": [],
   "source": [
    "Sales_Series_train = Sales_series[0:335]\n",
    "Sales_Series_test = Sales_series[335:]"
   ]
  },
  {
   "cell_type": "markdown",
   "metadata": {},
   "source": [
    "### Applying ARIMA"
   ]
  },
  {
   "cell_type": "code",
   "execution_count": 20,
   "metadata": {},
   "outputs": [],
   "source": [
    "from statsmodels.tsa.arima_model import ARIMA\n",
    "from sklearn.metrics import mean_squared_error\n",
    "import numpy as np\n",
    "import warnings\n",
    "warnings.filterwarnings('ignore')\n",
    "sales_model = ARIMA(Sales_Series_train,order = (0,0,1))"
   ]
  },
  {
   "cell_type": "code",
   "execution_count": 21,
   "metadata": {},
   "outputs": [],
   "source": [
    "sales_model_fit = sales_model.fit()"
   ]
  },
  {
   "cell_type": "code",
   "execution_count": 22,
   "metadata": {},
   "outputs": [],
   "source": [
    "sales_forcast = sales_model_fit.forecast(steps = 30)[0]"
   ]
  },
  {
   "cell_type": "code",
   "execution_count": 23,
   "metadata": {},
   "outputs": [
    {
     "data": {
      "text/plain": [
       "170572.71922831537"
      ]
     },
     "execution_count": 23,
     "metadata": {},
     "output_type": "execute_result"
    }
   ],
   "source": [
    "mean_squared_error(sales_forcast,Sales_Series_test.values)"
   ]
  },
  {
   "cell_type": "markdown",
   "metadata": {},
   "source": [
    "### To check best fit order with lowest MSE"
   ]
  },
  {
   "cell_type": "code",
   "execution_count": 24,
   "metadata": {},
   "outputs": [
    {
     "name": "stdout",
     "output_type": "stream",
     "text": [
      "Best ARIMA order is (4, 1, 4) and Mean Square Error is 92201\n"
     ]
    }
   ],
   "source": [
    "p_values = range(0,5)\n",
    "d_values = range(0,5)\n",
    "q_values = range(0,5)\n",
    "error_order_dict = dict()\n",
    "\n",
    "for p in p_values:\n",
    "    for d in d_values:\n",
    "        for q in q_values:\n",
    "            try:\n",
    "                sales_model = ARIMA(Sales_Series_train,order = (p,d,q))\n",
    "                sales_model_fit = sales_model.fit()\n",
    "                sales_forcast = sales_model_fit.forecast(steps = 30)[0]\n",
    "                mse = mean_squared_error(sales_forcast,Sales_Series_test.values)\n",
    "                error_order_dict[mse] = (p,d,q)\n",
    "            except:\n",
    "                continue\n",
    "\n",
    "lower_mse = np.array(list(error_order_dict.keys())).min()\n",
    "print(\"Best ARIMA order is {} and Mean Square Error is {}\".format(error_order_dict[lower_mse],int(lower_mse)))\n",
    "                \n",
    "                "
   ]
  },
  {
   "cell_type": "markdown",
   "metadata": {},
   "source": [
    "### We will train model with best order."
   ]
  },
  {
   "cell_type": "code",
   "execution_count": 25,
   "metadata": {},
   "outputs": [],
   "source": [
    "sales_model = ARIMA(Sales_Series_train,order = (4,1,4))\n",
    "sales_model_fit = sales_model.fit()\n",
    "sales_forcast = sales_model_fit.forecast(steps = 30)[0]"
   ]
  },
  {
   "cell_type": "code",
   "execution_count": 26,
   "metadata": {},
   "outputs": [
    {
     "data": {
      "image/png": "[encoded data removed]",
      "text/plain": [
       "<Figure size 1080x576 with 1 Axes>"
      ]
     },
     "metadata": {
      "needs_background": "light"
     },
     "output_type": "display_data"
    }
   ],
   "source": [
    "plt.figure(figsize=(15,8))\n",
    "ax1 = plt.subplot(211)\n",
    "fig = sales_model_fit.plot_predict(1,395,ax=ax1)"
   ]
  },
  {
   "cell_type": "code",
   "execution_count": 27,
   "metadata": {},
   "outputs": [],
   "source": [
    "dec = sales_model_fit.forecast(steps = 31)[0].sum()\n",
    "dec_jan = sales_model_fit.forecast(steps = 62)[0].sum()\n",
    "jan = dec_jan-dec"
   ]
  },
  {
   "cell_type": "code",
   "execution_count": 28,
   "metadata": {},
   "outputs": [
    {
     "name": "stdout",
     "output_type": "stream",
     "text": [
      "Jan'19 Month Predicted Sales:  48604\n"
     ]
    }
   ],
   "source": [
    "print(\"Jan'19 Month Predicted Sales: \",int(jan))"
   ]
  },
  {
   "cell_type": "code",
   "execution_count": null,
   "metadata": {},
   "outputs": [],
   "source": []
  }
 ],
 "metadata": {
  "kernelspec": {
   "display_name": "Python 3",
   "language": "python",
   "name": "python3"
  },
  "language_info": {
   "codemirror_mode": {
    "name": "ipython",
    "version": 3
   },
   "file_extension": ".py",
   "mimetype": "text/x-python",
   "name": "python",
   "nbconvert_exporter": "python",
   "pygments_lexer": "ipython3",
   "version": "3.7.3"
  }
 },
 "nbformat": 4,
 "nbformat_minor": 2
}
